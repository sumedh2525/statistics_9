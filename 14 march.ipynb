{
 "cells": [
  {
   "cell_type": "raw",
   "id": "f558b98e-5adb-4261-9fc9-282f18fcc986",
   "metadata": {},
   "source": [
    "Q1. Write a Python function that takes in two arrays of data and calculates the F-value for a variance ratio\n",
    "test. The function should return the F-value and the corresponding p-value for the test."
   ]
  },
  {
   "cell_type": "code",
   "execution_count": 1,
   "id": "4b8b3678-6361-4946-8427-9b7770aa495b",
   "metadata": {},
   "outputs": [
    {
     "name": "stdout",
     "output_type": "stream",
     "text": [
      "0.3424657534246575 0.1620285765284873\n"
     ]
    }
   ],
   "source": [
    "import numpy as np\n",
    "from scipy.stats import f\n",
    "\n",
    "def variance_ratio_test(data1, data2):\n",
    "    #calculate the variances of the two datasets\n",
    "    var1 = np.var(data1, ddof=1)\n",
    "    var2 = np.var(data2, ddof=1)\n",
    "    \n",
    "    #calculate the variances of the two datasets\n",
    "    f_value = var1 / var2\n",
    "    p_value = f.cdf(f_value, len(data1) -1, len(data2)-1)\n",
    "    \n",
    "    return f_value , p_value\n",
    "\n",
    "data1 = [1,2,3,4,5]\n",
    "data2 = [6,7,8,9,2]\n",
    "\n",
    "f_value, p_value = variance_ratio_test(data1,data2)\n",
    "print(f_value, p_value)"
   ]
  },
  {
   "cell_type": "raw",
   "id": "56d2397c-7deb-4832-843b-b6ed11a10aa4",
   "metadata": {},
   "source": []
  },
  {
   "cell_type": "raw",
   "id": "ec6ac7e0-bd67-4146-b1e3-4bc57d296b1e",
   "metadata": {},
   "source": [
    "Q2. Given a significance level of 0.05 and the degrees of freedom for the numerator and denominator of an\n",
    "F-distribution, write a Python function that returns the critical F-value for a two-tailed test."
   ]
  },
  {
   "cell_type": "code",
   "execution_count": 4,
   "id": "dff0f0ec-a2a0-4a72-890a-fb9c42e7d2b5",
   "metadata": {},
   "outputs": [
    {
     "name": "stdout",
     "output_type": "stream",
     "text": [
      "critical_f_value :  4.236085668188633\n"
     ]
    }
   ],
   "source": [
    "import numpy as np\n",
    "import scipy.stats as stats\n",
    "from scipy.stats import f\n",
    "\n",
    "# significance level\n",
    "significance_level = 0.05\n",
    "dfn = 5\n",
    "dfd = 10\n",
    "\n",
    "def get_critical_f_value(significance_level, dfn, dfd):\n",
    "    \n",
    "    #calculate the critical f-value for two tailed test\n",
    "    alpha = significance_level / 2\n",
    "    critical_f_value = f.ppf(1-alpha, dfn, dfd)\n",
    "    \n",
    "    return critical_f_value\n",
    "critical_f_value = get_critical_f_value(significance_level, dfn, dfd)\n",
    "\n",
    "print(\"critical_f_value : \", critical_f_value)"
   ]
  },
  {
   "cell_type": "code",
   "execution_count": null,
   "id": "773dc5f3-6c21-4806-99d7-43ff66b6ccc8",
   "metadata": {},
   "outputs": [],
   "source": []
  },
  {
   "cell_type": "raw",
   "id": "fd4fba39-3aef-4eb6-b1d6-1268d69e3993",
   "metadata": {},
   "source": [
    "Q3. Write a Python program that generates random samples from two normal distributions with known\n",
    "variances and uses an F-test to determine if the variances are equal. The program should output the Fvalue, degrees of freedom, and p-value for the test."
   ]
  },
  {
   "cell_type": "code",
   "execution_count": 6,
   "id": "9d5e7087-a19c-443a-bb6c-b2f249fcbc95",
   "metadata": {},
   "outputs": [
    {
     "name": "stdout",
     "output_type": "stream",
     "text": [
      "F-value : 3.941114430642328\n",
      "P-value : 0.9993311370823519\n"
     ]
    }
   ],
   "source": [
    "import numpy as np\n",
    "from scipy.stats import f\n",
    "\n",
    "sample1 = np.random.normal(0,1,25)\n",
    "sample2 = np.random.normal(1,2,25)\n",
    "    \n",
    "var1 = np.var(sample1)\n",
    "var2 = np.var(sample2)\n",
    "\n",
    "def f_test(sample1, sample2, var1, var2):\n",
    "    \n",
    "    #calculate the f-statistic\n",
    "    f_value = var1 / var2 if var1>=var2 else var2 / var1\n",
    "    \n",
    "    df1 = len(sample1) -1\n",
    "    df2 = len(sample2) -1\n",
    "    \n",
    "    p_value = f.cdf(f_value, df1, df2)\n",
    "    \n",
    "    return f_value, p_value, df1, df2\n",
    "\n",
    "f_value, p_value, df1, df2 = f_test(sample1, sample2, var1, var2)\n",
    "\n",
    "print(\"F-value :\", f_value)\n",
    "print(\"P-value :\" , p_value)"
   ]
  },
  {
   "cell_type": "code",
   "execution_count": null,
   "id": "d00f51f2-0626-4fa2-b309-6230119974aa",
   "metadata": {},
   "outputs": [],
   "source": []
  },
  {
   "cell_type": "raw",
   "id": "ef2dd943-2aeb-43cd-b587-9efc11cb2243",
   "metadata": {},
   "source": [
    "Q4.The variances of two populations are known to be 10 and 15. A sample of 12 observations is taken from\n",
    "each population. Conduct an F-test at the 5% significance level to determine if the variances are\n",
    "significantly different."
   ]
  },
  {
   "cell_type": "code",
   "execution_count": 2,
   "id": "64195b4a-02ec-4b9e-9e60-751176af169e",
   "metadata": {},
   "outputs": [
    {
     "name": "stdout",
     "output_type": "stream",
     "text": [
      "The null hypothesis is not rejected\n",
      "P-value : 0.2561948993678998\n",
      "F_value : 0.6666666666666666\n"
     ]
    }
   ],
   "source": [
    "import numpy as np\n",
    "from scipy.stats import f\n",
    "\n",
    "var1 = 10\n",
    "var2 = 15\n",
    "\n",
    "observations = 12\n",
    "\n",
    "df1 = observations -1\n",
    "df2 = observations - 1\n",
    "\n",
    "f_stat = var1 / var2\n",
    "\n",
    "p_value  = f.cdf(f_stat, df1, df2)\n",
    "\n",
    "# hypothesis\n",
    "null_hypothesis = \"The variances of the two populations are equal.\"\n",
    "altenative_hypothesis = \"The variances of two populations are not equal.\"\n",
    "\n",
    "if p_value<0.05:\n",
    "    print(\"The null hypothesis is rejected\")\n",
    "else:\n",
    "    print(\"The null hypothesis is not rejected\")\n",
    "    \n",
    "    \n",
    "print(\"P-value :\", p_value)\n",
    "print(\"F_value :\", f_stat)"
   ]
  },
  {
   "cell_type": "code",
   "execution_count": null,
   "id": "786a998b-e59f-4340-9f5e-e19b93a6ca48",
   "metadata": {},
   "outputs": [],
   "source": []
  },
  {
   "cell_type": "raw",
   "id": "17fa986d-dd36-420b-9c46-0d9248bef051",
   "metadata": {},
   "source": [
    "Q5. A manufacturer claims that the variance of the diameter of a certain product is 0.005. A sample of 25\n",
    "products is taken, and the sample variance is found to be 0.006. Conduct an F-test at the 1% significance\n",
    "level to determine if the claim is justified."
   ]
  },
  {
   "cell_type": "code",
   "execution_count": 1,
   "id": "9027398e-b924-413a-8dea-b80095926f35",
   "metadata": {},
   "outputs": [
    {
     "name": "stdout",
     "output_type": "stream",
     "text": [
      "The null hypothesis is not rejected.\n"
     ]
    }
   ],
   "source": [
    "import scipy.stats as stats\n",
    "\n",
    "# Define the null and alternative hypotheses\n",
    "null_hypothesis = \"The variance of the diameter is 0.005.\"\n",
    "alternative_hypothesis = \"The variance of the diameter is not 0.005.\"\n",
    "\n",
    "# Get the sample variance\n",
    "sample_variance = 0.006\n",
    "\n",
    "# Get the degrees of freedom\n",
    "df = 25 - 1\n",
    "\n",
    "# Calculate the F-statistic\n",
    "f_statistic = sample_variance / 0.005\n",
    "\n",
    "# Get the p-value\n",
    "p_value = stats.f.cdf(f_statistic, df, df)\n",
    "\n",
    "# Make a decision\n",
    "if p_value < 0.01:\n",
    "    print(\"The null hypothesis is rejected.\")\n",
    "else:\n",
    "    print(\"The null hypothesis is not rejected.\")\n"
   ]
  },
  {
   "cell_type": "code",
   "execution_count": null,
   "id": "b5bf6c2f-3875-4287-a8b6-89285403bf5e",
   "metadata": {},
   "outputs": [],
   "source": []
  },
  {
   "cell_type": "raw",
   "id": "daf49166-2c8e-4d43-8215-bfa553538fa8",
   "metadata": {},
   "source": [
    "Q6. Write a Python function that takes in the degrees of freedom for the numerator and denominator of an\n",
    "F-distribution and calculates the mean and variance of the distribution. The function should return the\n",
    "mean and variance as a tuple"
   ]
  },
  {
   "cell_type": "code",
   "execution_count": 1,
   "id": "32cf29a4-98b7-461e-b8b3-a64028613b56",
   "metadata": {},
   "outputs": [
    {
     "name": "stdout",
     "output_type": "stream",
     "text": [
      "Mean : 0.7692307692307693\n",
      "Variance : 0.556750941366326\n"
     ]
    }
   ],
   "source": [
    "import numpy as np\n",
    "from scipy.stats import f\n",
    "\n",
    "def f_distribution_mean_variance(df_N, df_D):\n",
    "    \n",
    "    #calculte the mean of f-distrivution\n",
    "    mean = df_N / (df_D - 2)\n",
    "    \n",
    "    var = (2 * (df_D ** 2) * (df_N + df_D -2)) / (df_N * ((df_D - 2) ** 2) * (df_D -4))\n",
    "        \n",
    "    \n",
    "    return mean , var\n",
    "\n",
    "df_N = 10\n",
    "df_D = 15\n",
    "\n",
    "mean, var = f_distribution_mean_variance(df_N, df_D)\n",
    "\n",
    "print(\"Mean :\", mean)\n",
    "print(\"Variance :\", var)"
   ]
  },
  {
   "cell_type": "code",
   "execution_count": null,
   "id": "8c8e201a-9f0d-45ba-8ab7-783865705d48",
   "metadata": {},
   "outputs": [],
   "source": []
  },
  {
   "cell_type": "raw",
   "id": "7275a1be-ac41-4aca-8558-ca89b2d3330f",
   "metadata": {},
   "source": [
    "Q7. A random sample of 10 measurements is taken from a normal population with unknown variance. The\n",
    "sample variance is found to be 25. Another random sample of 15 measurements is taken from another\n",
    "normal population with unknown variance, and the sample variance is found to be 20. Conduct an F-test\n",
    "at the 10% significance level to determine if the variances are significantly different."
   ]
  },
  {
   "cell_type": "code",
   "execution_count": 1,
   "id": "91086efd-a799-4066-a630-f3a9dd7d8d17",
   "metadata": {},
   "outputs": [
    {
     "name": "stdout",
     "output_type": "stream",
     "text": [
      "The null hypothesis is not rejected.\n",
      "p-value 0.6583902808707023\n",
      "F-test: 1.25\n"
     ]
    }
   ],
   "source": [
    "import numpy as np\n",
    "from scipy.stats import f\n",
    "\n",
    "sample_var1 = 25\n",
    "sample_var2 = 20\n",
    "\n",
    "df1 = 10 -1\n",
    "df2 = 15 - 1\n",
    "\n",
    "f_value = sample_var1 / sample_var2\n",
    "\n",
    "p_value = f.cdf(f_value, df1, df2)\n",
    "\n",
    "if p_value < 0.10:\n",
    "    print(\"The null hypothesis is rejected.\")\n",
    "else:\n",
    "    print(\"The null hypothesis is not rejected.\")\n",
    "    \n",
    "print(\"p-value\" , p_value)\n",
    "print(\"F-test:\" , f_value)\n"
   ]
  },
  {
   "cell_type": "code",
   "execution_count": null,
   "id": "dc5d1ed3-8cf9-413c-bbdb-53617672d208",
   "metadata": {},
   "outputs": [],
   "source": []
  },
  {
   "cell_type": "raw",
   "id": "80c42f0a-2173-4772-9810-920aae51288b",
   "metadata": {},
   "source": [
    "Q8. The following data represent the waiting times in minutes at two different restaurants on a Saturday\n",
    "night: Restaurant A: 24, 25, 28, 23, 22, 20, 27; Restaurant B: 31, 33, 35, 30, 32, 36. Conduct an F-test at the 5%\n",
    "significance level to determine if the variances are significantly different."
   ]
  },
  {
   "cell_type": "code",
   "execution_count": 1,
   "id": "77bb43c2-a29e-4d16-86ef-690734b9e7e0",
   "metadata": {},
   "outputs": [
    {
     "name": "stdout",
     "output_type": "stream",
     "text": [
      "The null hypothesis is not rejected.\n",
      "P-value : 0.3138673557427951\n",
      "F-test :  0.6327479338842975\n"
     ]
    }
   ],
   "source": [
    "import scipy.stats as stats\n",
    "\n",
    "# Define the null and alternative hypotheses\n",
    "null_hypothesis = \"The variances of the two populations are equal.\"\n",
    "alternative_hypothesis = \"The variances of the two populations are not equal.\"\n",
    "\n",
    "# Get the sample variances\n",
    "sample_variance_1 = 12.25\n",
    "sample_variance_2 = 19.36\n",
    "\n",
    "# Get the degrees of freedom\n",
    "df_1 = 6 - 1\n",
    "df_2 = 6 - 1\n",
    "\n",
    "# Calculate the F-statistic\n",
    "f_statistic = sample_variance_1 / sample_variance_2\n",
    "\n",
    "# Get the p-value\n",
    "p_value = stats.f.cdf(f_statistic, df_1, df_2)\n",
    "\n",
    "# Make a decision\n",
    "if p_value < 0.05:\n",
    "    print(\"The null hypothesis is rejected.\")\n",
    "else:\n",
    "    print(\"The null hypothesis is not rejected.\")\n",
    "\n",
    "print(\"P-value :\", p_value)\n",
    "print(\"F-test : \", f_statistic)"
   ]
  },
  {
   "cell_type": "code",
   "execution_count": null,
   "id": "99f2351e-0cae-4351-9f92-27dd12b4396b",
   "metadata": {},
   "outputs": [],
   "source": []
  },
  {
   "cell_type": "markdown",
   "id": "231677ae-66c8-4993-bca7-608f3ef2adae",
   "metadata": {},
   "source": [
    "Q9. The following data represent the test scores of two groups of students: Group A: 80, 85, 90, 92, 87, 83;\n",
    "Group B: 75, 78, 82, 79, 81, 84. Conduct an F-test at the 1% significance level to determine if the variances\n",
    "are significantly different."
   ]
  },
  {
   "cell_type": "code",
   "execution_count": 1,
   "id": "0ebdb014-4291-4dd1-9c17-82f708406932",
   "metadata": {},
   "outputs": [
    {
     "name": "stdout",
     "output_type": "stream",
     "text": [
      "Fail to reject null hypothesis: Variances are not significantly different\n",
      "P-value : 0.7584478225464656\n",
      "F-test : 1.9442622950819677\n"
     ]
    }
   ],
   "source": [
    "import numpy as np\n",
    "from scipy.stats import f\n",
    "\n",
    "Group_A = [80, 85, 90, 92, 87, 83]\n",
    "Group_B = [75, 78, 82, 79, 81, 84]\n",
    "\n",
    "var_A = np.var(Group_A)\n",
    "var_B = np.var(Group_B)\n",
    "\n",
    "df_A = len(Group_A) - 1\n",
    "df_B = len(Group_B) - 1\n",
    "\n",
    "f_test = var_A / var_B\n",
    "p_value = f.cdf(f_test, df_A, df_B)\n",
    "\n",
    "if p_value < 0.10:\n",
    "    print(\"Reject null hypothesis: Variances are significantly different\")\n",
    "else:\n",
    "    print(\"Fail to reject null hypothesis: Variances are not significantly different\")\n",
    "    \n",
    "print(\"P-value :\", p_value)\n",
    "print(\"F-test :\", f_test)"
   ]
  },
  {
   "cell_type": "code",
   "execution_count": null,
   "id": "b011459b-d1c7-41cb-98af-c2ee26ac41b5",
   "metadata": {},
   "outputs": [],
   "source": []
  }
 ],
 "metadata": {
  "kernelspec": {
   "display_name": "Python 3 (ipykernel)",
   "language": "python",
   "name": "python3"
  },
  "language_info": {
   "codemirror_mode": {
    "name": "ipython",
    "version": 3
   },
   "file_extension": ".py",
   "mimetype": "text/x-python",
   "name": "python",
   "nbconvert_exporter": "python",
   "pygments_lexer": "ipython3",
   "version": "3.10.8"
  }
 },
 "nbformat": 4,
 "nbformat_minor": 5
}
